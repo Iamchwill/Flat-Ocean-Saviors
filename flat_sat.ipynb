{
 "cells": [
  {
   "cell_type": "markdown",
   "metadata": {},
   "source": [
    "# Team Flat Ocean Saviors\n",
    "## Software Architecture - Taking and Uploading the Picture \n",
    "\n",
    "---\n",
    "\n",
    "The purpose of this file is to walk through our current code in enabling the Pi to capture and upload a picture to GitHub. An outline of each step is attached below: \n",
    "\n",
    "- [1. Imports](#1)\n",
    "- [2. Setup](#2)\n",
    "- [3. Taking the Picture](#3)\n",
    "- [4. Uploading to GitHub](#4)\n",
    "\n",
    "---"
   ]
  },
  {
   "cell_type": "markdown",
   "metadata": {},
   "source": [
    "## <a id =1> </a> 1. Imports\n",
    "\n",
    "Below are the required imports for our code. We decided to not use the ```git``` module in favor of ```os```. Due to ```picamera```, this code can only be executed on a RaspberryPi. "
   ]
  },
  {
   "cell_type": "code",
   "execution_count": null,
   "metadata": {},
   "outputs": [],
   "source": [
    "import time\n",
    "import os\n",
    "import board\n",
    "import busio\n",
    "import adafruit_bno055\n",
    "#from git import Repo\n",
    "from picamera import PiCamera"
   ]
  },
  {
   "cell_type": "markdown",
   "metadata": {},
   "source": [
    "## <a id =2> </a> 2. Setup\n",
    "\n",
    "Variables ```i2c``` and ```sensor``` initiate the acceleration sensor, and have come with the template. ```threshold``` is in preparation for the minimum acceleration needed for the Pi to take a picture, for which we decided to use 10 meters per second squared. ```newCamera``` creates a new object of class PiCamera, whose associated methods will be used to take the picture in the next section."
   ]
  },
  {
   "cell_type": "code",
   "execution_count": null,
   "metadata": {},
   "outputs": [],
   "source": [
    "i2c = busio.I2C(board.SCL, board.SDA)\n",
    "sensor = adafruit_bno055.BNO055_I2C(i2c)\n",
    "\n",
    "#SET THRESHOLD\n",
    "threshold = 10\n",
    "\n",
    "newCamera = PiCamera()"
   ]
  },
  {
   "cell_type": "markdown",
   "metadata": {},
   "source": [
    "## <a id =3> </a> 3. Taking the Picture\n",
    "\n",
    "```accelX, accelY, accelZ = sensor.acceleration``` is how we will access the X, Y, and Z accelerations detected by the sensor.<br>\n",
    "<br>\n",
    "```if abs(accelX) > threshold or abs(accelY) > threshold or abs(accelZ-9.81) > threshold:``` states that if X, Y, or Z detects an acceleration of greater than the threshold (10), then the picture will be taken. For Z, 9.81 must be subtracted from the read value in order for the code to not be mistakenly triggered by gravitational acceleration.<br>\n",
    "<br>\n",
    "```name = \"SaviorsO\"     #Last Name, First Initial  ex. FoxJ``` is required by the template, for which ```name``` will be used in the filename of the picture.<br>\n",
    "```python \n",
    "if name:\n",
    "    newCamera.start_preview()\n",
    "    print(\"Preparing: Please Wait\")\n",
    "    time.sleep(5)\n",
    "``` \n",
    "The above initializes the camera. The camera requires at least 3 seconds in order for the lenses to calibrate. To be completely sure that it is ready, we decided to give the camera 5 seconds instead (```time.sleep(5)```). <br>\n",
    "```python3 \n",
    "t = time.strftime(\"_%H%M%S\")      # current time string\n",
    "imgname = f\"{name}{t}\" #change directory to your folder\n",
    "```\n",
    "The above is purely for the picture filename. The picture has not been taken yet, but when it is, the filename will already be ready due to this code. ```t``` is holds the current time. ```imgname``` combines ```name``` and ```t``` into a filename presenting the information stored in both variables. The file will be located in the current working directory. <br>\n",
    "<br>\n",
    "```newCamera.capture(imgname) #saves image into a file``` is a method of class PiCamera that turns what the camera is currently seeing into a file in the current working directory of name ```imgname```, the name that was compiled in the previous part of the code. <br>\n",
    "<br>\n",
    "```git_push()``` is the final step, where the image will be uploaded to GitHub. This will be explored in the next section. "
   ]
  },
  {
   "cell_type": "code",
   "execution_count": null,
   "metadata": {},
   "outputs": [],
   "source": [
    "#read acceleration\n",
    "while True:\n",
    "    accelX, accelY, accelZ = sensor.acceleration\n",
    "\n",
    "    #CHECK IF READINGS ARE ABOVE THRESHOLD\n",
    "    if abs(accelX) > threshold or abs(accelY) > threshold or abs(accelZ-9.81) > threshold:\n",
    "        #PAUSE\n",
    "        time.sleep(0.1)\n",
    "\n",
    "        #TAKE/SAVE/UPLOAD A PICTURE \n",
    "        name = \"SaviorsO\"     #Last Name, First Initial  ex. FoxJ\n",
    "        \n",
    "        if name:\n",
    "            newCamera.start_preview()\n",
    "            print(\"Preparing: Please Wait\")\n",
    "            time.sleep(5)\n",
    "            t = time.strftime(\"_%H%M%S\")      # current time string\n",
    "            imgname = ('/home/pi/Desktop/newImage%s%s.jpg' % (name,t)) #change directory to your folder\n",
    "    \n",
    "            #<YOUR CODE GOES HERE>#\n",
    "            newCamera.capture(imgname) #saves image into a file\n",
    "            print(\"Complete. Now Uploading\")\n",
    "            git_push()\n",
    "            print(\"Completed Upload\")\n",
    "    \n",
    "    #PAUSE\n",
    "    time.sleep(1)"
   ]
  },
  {
   "cell_type": "markdown",
   "metadata": {},
   "source": [
    "## <a id =4> </a> 4. Uploading to GitHub\n",
    "\n",
    "The following code executes commands in Terminal to upload this folder to GitHub, with the taken picture. ```os.system(arg)``` runs the argument exactly as if you were running the command yourself in the Terminal."
   ]
  },
  {
   "cell_type": "code",
   "execution_count": null,
   "metadata": {},
   "outputs": [],
   "source": [
    "def git_push():\n",
    "    try:\n",
    "        os.system(\"git add -A\")\n",
    "        msg = input(\"add message: \")\n",
    "        os.system(f\"git commit -m {msg}\")\n",
    "        os.system(\"git push\")\n",
    "    except:\n",
    "        print(\"Couldn't upload to git\")"
   ]
  }
 ],
 "metadata": {
  "language_info": {
   "name": "python"
  },
  "orig_nbformat": 4
 },
 "nbformat": 4,
 "nbformat_minor": 2
}
